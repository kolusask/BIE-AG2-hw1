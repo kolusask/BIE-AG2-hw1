{
 "cells": [
  {
   "cell_type": "code",
   "execution_count": null,
   "metadata": {},
   "outputs": [
    {
     "ename": "Error",
     "evalue": "Jupyter cannot be started. Error attempting to locate jupyter: ",
     "output_type": "error",
     "traceback": [
      "Error: Jupyter cannot be started. Error attempting to locate jupyter:",
      "at A.startServer (/home/askar/.vscode/extensions/ms-python.python-2020.2.64397/out/client/extension.js:1:786120)",
      "at async A.ensureServerAndNotebookImpl (/home/askar/.vscode/extensions/ms-python.python-2020.2.64397/out/client/extension.js:1:785575)",
      "at async A.ensureServerAndNotebook (/home/askar/.vscode/extensions/ms-python.python-2020.2.64397/out/client/extension.js:1:785376)",
      "at async A.submitCode (/home/askar/.vscode/extensions/ms-python.python-2020.2.64397/out/client/extension.js:1:782328)",
      "at async A.reexecuteCell (/home/askar/.vscode/extensions/ms-python.python-2020.2.64397/out/client/extension.js:75:879318)"
     ]
    }
   ],
   "source": [
    "from random import randrange as rand\n",
    "import networkx as nx\n",
    "import os\n",
    "\n",
    "nNodes = 5\n",
    "nEdges = 7\n",
    "\n",
    "graph = nx.Graph()\n",
    "\n",
    "edges = set()\n",
    "with open(\"input.txt\", 'w') as file:\n",
    "    file.write(str(nNodes) + ' ' + str(nEdges) + \"\\n\")\n",
    "    for i in range(nEdges):\n",
    "        first, second = (rand(0, nNodes) for _ in range(2))\n",
    "        while (first, second) in edges:\n",
    "            first, second = (rand(0, nNodes) for _ in range(2))\n",
    "        file.write(str(first) + ' ' + str(second) + '\\n')\n",
    "        edges.add((first, second))\n",
    "        edges.add((second, first))\n",
    "        graph.add_edge(first, second)\n",
    "\n",
    "res = os.popen(\"cat input.txt | ./a.out\").read()\n",
    "print(res)\n",
    "nx.draw(graph, pos=nx.spring_layout(graph), with_labels=True, node_color='w')\n"
   ]
  },
  {
   "cell_type": "code",
   "execution_count": null,
   "metadata": {},
   "outputs": [],
   "source": []
  }
 ],
 "metadata": {
  "kernelspec": {
   "display_name": "Python 3",
   "language": "python",
   "name": "python3"
  },
  "language_info": {
   "codemirror_mode": {
    "name": "ipython",
    "version": 3
   },
   "file_extension": ".py",
   "mimetype": "text/x-python",
   "name": "python",
   "nbconvert_exporter": "python",
   "pygments_lexer": "ipython3",
   "version": "3.6.9"
  }
 },
 "nbformat": 4,
 "nbformat_minor": 4
}